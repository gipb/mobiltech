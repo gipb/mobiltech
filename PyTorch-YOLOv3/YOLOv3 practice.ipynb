{
 "cells": [
  {
   "cell_type": "markdown",
   "metadata": {},
   "source": [
    "### upsampling"
   ]
  },
  {
   "cell_type": "code",
   "execution_count": 30,
   "metadata": {},
   "outputs": [],
   "source": [
    "import torch.nn.functional as F\n",
    "import torch"
   ]
  },
  {
   "cell_type": "code",
   "execution_count": 33,
   "metadata": {
    "scrolled": false
   },
   "outputs": [
    {
     "name": "stdout",
     "output_type": "stream",
     "text": [
      "tensor([[[[1., 2.],\n",
      "          [3., 4.]]]])\n",
      "torch.Size([1, 1, 2, 2])\n",
      "tensor([[[[1., 1., 2., 2.],\n",
      "          [1., 1., 2., 2.],\n",
      "          [3., 3., 4., 4.],\n",
      "          [3., 3., 4., 4.]]]])\n",
      "torch.Size([1, 1, 4, 4])\n"
     ]
    }
   ],
   "source": [
    "a = torch.arange(1,5).view(1,1,2,2).float()\n",
    "print(a)\n",
    "print(a.size())\n",
    "a = F.interpolate(a, scale_factor=2, mode = 'nearest')\n",
    "print(a)\n",
    "print(a.size())"
   ]
  },
  {
   "cell_type": "markdown",
   "metadata": {},
   "source": [
    "### Darknet architecture"
   ]
  },
  {
   "cell_type": "code",
   "execution_count": 28,
   "metadata": {},
   "outputs": [],
   "source": [
    "from models import *\n",
    "from utils.parse_config import *\n",
    "\n",
    "model_defs = \"./config/yolov3.cfg\"\n",
    "model = Darknet(model_defs)"
   ]
  },
  {
   "cell_type": "code",
   "execution_count": 60,
   "metadata": {
    "scrolled": true
   },
   "outputs": [
    {
     "name": "stdout",
     "output_type": "stream",
     "text": [
      "82\n",
      "YOLOLayer(\n",
      "  (mse_loss): MSELoss()\n",
      "  (bce_loss): BCELoss()\n",
      ")\n",
      "94\n",
      "YOLOLayer(\n",
      "  (mse_loss): MSELoss()\n",
      "  (bce_loss): BCELoss()\n",
      ")\n",
      "106\n",
      "YOLOLayer(\n",
      "  (mse_loss): MSELoss()\n",
      "  (bce_loss): BCELoss()\n",
      ")\n"
     ]
    }
   ],
   "source": [
    "for layer_i, layer in enumerate(model.module_list):\n",
    "    if hasattr(layer[0], \"metrics\"):\n",
    "        print(f'{layer_i}')\n",
    "        a = layer[0]"
   ]
  },
  {
   "cell_type": "code",
   "execution_count": null,
   "metadata": {},
   "outputs": [],
   "source": []
  }
 ],
 "metadata": {
  "kernelspec": {
   "display_name": "py_yolo",
   "language": "python",
   "name": "py_yolo"
  },
  "language_info": {
   "codemirror_mode": {
    "name": "ipython",
    "version": 3
   },
   "file_extension": ".py",
   "mimetype": "text/x-python",
   "name": "python",
   "nbconvert_exporter": "python",
   "pygments_lexer": "ipython3",
   "version": "3.7.3"
  }
 },
 "nbformat": 4,
 "nbformat_minor": 2
}
